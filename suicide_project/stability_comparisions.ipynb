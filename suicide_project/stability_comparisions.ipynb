{
 "cells": [
  {
   "cell_type": "code",
   "execution_count": null,
   "metadata": {},
   "outputs": [],
   "source": [
    "import numpy as np\n",
    "from sklearn.model_selection import train_test_split\n",
    "from sklearn.tree import DecisionTreeClassifier\n",
    "from sklearn.ensemble import RandomForestClassifier\n",
    "from sklearn.metrics import accuracy_score\n",
    "import pandas as pd\n",
    "from sklearn.datasets import load_breast_cancer\n",
    "\n",
    "from bertsimas_stable.stable_trainer import StableTrainer"
   ]
  },
  {
   "cell_type": "code",
   "execution_count": null,
   "metadata": {},
   "outputs": [],
   "source": [
    "data_bc = load_breast_cancer(as_frame=True)\n",
    "X_full = data_bc[\"data\"]\n",
    "y_full = data_bc[\"target\"]\n",
    "\n",
    "N_SPLITS = 10\n",
    "test_size = 0.33\n",
    "\n",
    "cart_accuracies = []\n",
    "rf_accuracies = []\n",
    "stable_accuracies = []\n",
    "stable_distances = []\n",
    "cart_trees = []\n",
    "rf_trees = []\n",
    "stable_trees = []"
   ]
  },
  {
   "cell_type": "code",
   "execution_count": null,
   "metadata": {},
   "outputs": [],
   "source": [
    "for i in range(N_SPLITS):\n",
    "    X_train, X_test, y_train, y_test = train_test_split(\n",
    "        X_full, y_full, test_size=test_size, random_state=i\n",
    "    )\n",
    "    \n",
    "    cart = DecisionTreeClassifier(random_state=i)\n",
    "    cart.fit(X_train, y_train)\n",
    "\n",
    "    rf = RandomForestClassifier(random_state=i)\n",
    "    rf.fit(X_train, y_train)\n",
    "    \n",
    "    stable_model = StableTrainer(depths=[3,5,7], min_samples_leaf=[5,10], random_state=i, max_depth_for_lambda=7)\n",
    "    stable_model.fit(X_train, y_train, X_full, y_full, X_test, y_test)\n",
    "    \n",
    "    cart_y_pred = cart.predict(X_test)\n",
    "    cart_acc = accuracy_score(y_test, cart_y_pred)\n",
    "    cart_accuracies.append(cart_acc)\n",
    "    cart_trees.append(cart)\n",
    "    \n",
    "    rf_y_pred = rf.predict(X_test)\n",
    "    rf_acc = accuracy_score(y_test, rf_y_pred)\n",
    "    rf_accuracies.append(rf_acc)\n",
    "    rf_trees.append(rf)\n",
    "    \n",
    "    stable_y_pred = stable_model.predict(X_test)\n",
    "    stable_acc = accuracy_score(y_test, stable_y_pred)\n",
    "    stable_accuracies.append(stable_acc)\n",
    "    stable_trees.append(stable_model)\n",
    "    \n",
    "    # 6) If you measure stability distance for the stable model, do it here\n",
    "    # For example, if measuring average distance to some baseline T0:\n",
    "    # stable_dist = measure_distance(stable_model, T0_list, global_lower, global_upper)\n",
    "    # stable_distances.append(stable_dist)"
   ]
  },
  {
   "cell_type": "code",
   "execution_count": null,
   "metadata": {},
   "outputs": [],
   "source": [
    "# After the loop, compute mean and std for each\n",
    "cart_mean_acc, cart_std_acc = np.mean(cart_accuracies), np.std(cart_accuracies)\n",
    "rf_mean_acc,   rf_std_acc   = np.mean(rf_accuracies),   np.std(rf_accuracies)\n",
    "stable_mean_acc, stable_std_acc = np.mean(stable_accuracies), np.std(stable_accuracies)\n",
    "\n",
    "# stable_dist_mean, stable_dist_std = np.mean(stable_distances), np.std(stable_distances)\n",
    "\n",
    "print(\"==== Results over 10 splits (mean, stdev) ====\")\n",
    "\n",
    "summary_df = pd.DataFrame({\n",
    "    'Model': ['CART', 'RandomForest', 'StableApproach'],\n",
    "    'MeanAcc': [cart_mean_acc, rf_mean_acc, stable_mean_acc],\n",
    "    'StdAcc':  [cart_std_acc, rf_std_acc, stable_std_acc],\n",
    "    # 'MeanDist': [...],\n",
    "    # 'StdDist':  [...],\n",
    "})\n",
    "summary_df"
   ]
  },
  {
   "cell_type": "code",
   "execution_count": null,
   "metadata": {},
   "outputs": [],
   "source": [
    "# stab.plot_stable_tree(feature_names=X_full.columns, \n",
    "#                          class_names=[\"Malignant\",\"Benign\"])\n",
    "# plot first 3 stable trees\n",
    "for i in range(3):\n",
    "    img = stable_trees[i].plot_stable_tree(feature_names=X_full.columns, \n",
    "                                     class_names=[\"Malignant\",\"Benign\"])"
   ]
  },
  {
   "cell_type": "code",
   "execution_count": null,
   "metadata": {},
   "outputs": [],
   "source": [
    "# print(\"Distances:\", trainer.distances_)\n",
    "# print(\"Performances:\", trainer.performances_)\n",
    "# print(\"Pareto indices:\", trainer.pareto_indices_)"
   ]
  },
  {
   "cell_type": "code",
   "execution_count": null,
   "metadata": {},
   "outputs": [],
   "source": [
    "# trainer.plot_stable_tree(feature_names=X_full.columns.tolist(),\n",
    "#                          class_names=[\"Malignant\", \"Benign\"])"
   ]
  }
 ],
 "metadata": {
  "kernelspec": {
   "display_name": ".venv",
   "language": "python",
   "name": "python3"
  },
  "language_info": {
   "codemirror_mode": {
    "name": "ipython",
    "version": 3
   },
   "file_extension": ".py",
   "mimetype": "text/x-python",
   "name": "python",
   "nbconvert_exporter": "python",
   "pygments_lexer": "ipython3",
   "version": "3.11.11"
  }
 },
 "nbformat": 4,
 "nbformat_minor": 2
}
