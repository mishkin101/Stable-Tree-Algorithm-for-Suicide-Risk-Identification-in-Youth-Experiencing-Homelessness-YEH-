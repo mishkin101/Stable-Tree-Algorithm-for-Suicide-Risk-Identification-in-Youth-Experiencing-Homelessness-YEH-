{
 "cells": [
  {
   "cell_type": "code",
   "execution_count": null,
   "metadata": {},
   "outputs": [],
   "source": [
    "import pandas as pd\n",
    "from sklearn.datasets import load_breast_cancer\n",
    "from sklearn.model_selection import train_test_split\n",
    "\n",
    "from bertsimas_stable.stable_trainer import StableTrainer"
   ]
  },
  {
   "cell_type": "code",
   "execution_count": null,
   "metadata": {},
   "outputs": [],
   "source": [
    "data_bc = load_breast_cancer(as_frame=True)\n",
    "X_full = data_bc[\"data\"]\n",
    "y_full = data_bc[\"target\"]\n",
    "\n",
    "# For demonstration, let's pick a subset of data as (X0, y0) \n",
    "# and use the full dataset as (X_full, y_full).\n",
    "X0, X_rest, y0, y_rest = train_test_split(X_full, y_full, test_size=0.5, random_state=42)\n",
    "X_test, X_validate, y_test, y_validate = train_test_split(X_rest, y_rest, test_size=0.5, random_state=42)\n",
    "\n",
    "trainer = StableTrainer(\n",
    "    depths=[3,5,7],\n",
    "    min_samples_leaf=[5,10],\n",
    "    random_state=42,\n",
    "    max_depth_for_lambda=7\n",
    ")\n",
    "\n",
    "trainer.train_stable(X0, y0, X_full, y_full, X_test, y_test)"
   ]
  },
  {
   "cell_type": "code",
   "execution_count": null,
   "metadata": {},
   "outputs": [],
   "source": [
    "print(\"Distances:\", trainer.distances_)\n",
    "print(\"Performances:\", trainer.performances_)\n",
    "print(\"Pareto indices:\", trainer.pareto_indices_)"
   ]
  },
  {
   "cell_type": "code",
   "execution_count": null,
   "metadata": {},
   "outputs": [],
   "source": [
    "trainer.plot_stable_tree(feature_names=X_full.columns.tolist(),\n",
    "                         class_names=[\"Malignant\", \"Benign\"])"
   ]
  }
 ],
 "metadata": {
  "language_info": {
   "name": "python"
  }
 },
 "nbformat": 4,
 "nbformat_minor": 2
}
