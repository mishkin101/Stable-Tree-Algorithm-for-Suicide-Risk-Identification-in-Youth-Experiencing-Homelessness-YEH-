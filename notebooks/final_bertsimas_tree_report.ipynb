{
 "cells": [
  {
   "cell_type": "markdown",
   "id": "9d8d680b",
   "metadata": {},
   "source": [
    "# Notebook implementing the stable tree algorithm in Bertsimas et al. (https://arxiv.org/abs/2305.17299)"
   ]
  },
  {
   "cell_type": "code",
   "execution_count": 1,
   "id": "4b8358ae",
   "metadata": {},
   "outputs": [],
   "source": [
    "import sys\n",
    "import itertools\n",
    "from pathlib import Path\n",
    "src_path = Path(\"../src/dt-distance\").resolve()\n",
    "if str(src_path) not in sys.path:\n",
    "    sys.path.insert(0, str(src_path))\n",
    "\n",
    "import numpy as np\n",
    "from sklearn.tree import DecisionTreeClassifier\n",
    "from sklearn.metrics import roc_auc_score\n",
    "from sklearn.utils import resample\n",
    "from sklearn.datasets import load_breast_cancer\n",
    "from sklearn.model_selection import train_test_split\n",
    "from dt_distance.data_processor import DataProcessor\n",
    "from dt_distance.tree_parser import TreeParser\n",
    "from dt_distance.distance_calculator import DistanceCalculator\n",
    "from dt_distance.problem_params import ProblemParams\n",
    "\n",
    "# set seed for reproducibility\n",
    "np.random.seed(42)"
   ]
  },
  {
   "cell_type": "markdown",
   "id": "9cbcc1ae",
   "metadata": {},
   "source": [
    "Parameters listed in the paper:"
   ]
  },
  {
   "cell_type": "code",
   "execution_count": 2,
   "id": "999f51cf",
   "metadata": {},
   "outputs": [],
   "source": [
    "DEPTHS = list(range(3, 13))\n",
    "MIN_SAMPLES = [3, 5, 10, 30, 50]"
   ]
  },
  {
   "cell_type": "markdown",
   "id": "3d9e74af",
   "metadata": {},
   "source": [
    "## Loading the breast cancer dataset"
   ]
  },
  {
   "cell_type": "code",
   "execution_count": 3,
   "id": "2d78fa6d",
   "metadata": {},
   "outputs": [
    {
     "name": "stdout",
     "output_type": "stream",
     "text": [
      "X_full shape:  (569, 30)\n"
     ]
    },
    {
     "data": {
      "text/html": [
       "<div>\n",
       "<style scoped>\n",
       "    .dataframe tbody tr th:only-of-type {\n",
       "        vertical-align: middle;\n",
       "    }\n",
       "\n",
       "    .dataframe tbody tr th {\n",
       "        vertical-align: top;\n",
       "    }\n",
       "\n",
       "    .dataframe thead th {\n",
       "        text-align: right;\n",
       "    }\n",
       "</style>\n",
       "<table border=\"1\" class=\"dataframe\">\n",
       "  <thead>\n",
       "    <tr style=\"text-align: right;\">\n",
       "      <th></th>\n",
       "      <th>mean radius</th>\n",
       "      <th>mean texture</th>\n",
       "      <th>mean perimeter</th>\n",
       "      <th>mean area</th>\n",
       "      <th>mean smoothness</th>\n",
       "      <th>mean compactness</th>\n",
       "      <th>mean concavity</th>\n",
       "      <th>mean concave points</th>\n",
       "      <th>mean symmetry</th>\n",
       "      <th>mean fractal dimension</th>\n",
       "      <th>...</th>\n",
       "      <th>worst radius</th>\n",
       "      <th>worst texture</th>\n",
       "      <th>worst perimeter</th>\n",
       "      <th>worst area</th>\n",
       "      <th>worst smoothness</th>\n",
       "      <th>worst compactness</th>\n",
       "      <th>worst concavity</th>\n",
       "      <th>worst concave points</th>\n",
       "      <th>worst symmetry</th>\n",
       "      <th>worst fractal dimension</th>\n",
       "    </tr>\n",
       "  </thead>\n",
       "  <tbody>\n",
       "    <tr>\n",
       "      <th>0</th>\n",
       "      <td>17.99</td>\n",
       "      <td>10.38</td>\n",
       "      <td>122.80</td>\n",
       "      <td>1001.0</td>\n",
       "      <td>0.11840</td>\n",
       "      <td>0.27760</td>\n",
       "      <td>0.3001</td>\n",
       "      <td>0.14710</td>\n",
       "      <td>0.2419</td>\n",
       "      <td>0.07871</td>\n",
       "      <td>...</td>\n",
       "      <td>25.38</td>\n",
       "      <td>17.33</td>\n",
       "      <td>184.60</td>\n",
       "      <td>2019.0</td>\n",
       "      <td>0.1622</td>\n",
       "      <td>0.6656</td>\n",
       "      <td>0.7119</td>\n",
       "      <td>0.2654</td>\n",
       "      <td>0.4601</td>\n",
       "      <td>0.11890</td>\n",
       "    </tr>\n",
       "    <tr>\n",
       "      <th>1</th>\n",
       "      <td>20.57</td>\n",
       "      <td>17.77</td>\n",
       "      <td>132.90</td>\n",
       "      <td>1326.0</td>\n",
       "      <td>0.08474</td>\n",
       "      <td>0.07864</td>\n",
       "      <td>0.0869</td>\n",
       "      <td>0.07017</td>\n",
       "      <td>0.1812</td>\n",
       "      <td>0.05667</td>\n",
       "      <td>...</td>\n",
       "      <td>24.99</td>\n",
       "      <td>23.41</td>\n",
       "      <td>158.80</td>\n",
       "      <td>1956.0</td>\n",
       "      <td>0.1238</td>\n",
       "      <td>0.1866</td>\n",
       "      <td>0.2416</td>\n",
       "      <td>0.1860</td>\n",
       "      <td>0.2750</td>\n",
       "      <td>0.08902</td>\n",
       "    </tr>\n",
       "    <tr>\n",
       "      <th>2</th>\n",
       "      <td>19.69</td>\n",
       "      <td>21.25</td>\n",
       "      <td>130.00</td>\n",
       "      <td>1203.0</td>\n",
       "      <td>0.10960</td>\n",
       "      <td>0.15990</td>\n",
       "      <td>0.1974</td>\n",
       "      <td>0.12790</td>\n",
       "      <td>0.2069</td>\n",
       "      <td>0.05999</td>\n",
       "      <td>...</td>\n",
       "      <td>23.57</td>\n",
       "      <td>25.53</td>\n",
       "      <td>152.50</td>\n",
       "      <td>1709.0</td>\n",
       "      <td>0.1444</td>\n",
       "      <td>0.4245</td>\n",
       "      <td>0.4504</td>\n",
       "      <td>0.2430</td>\n",
       "      <td>0.3613</td>\n",
       "      <td>0.08758</td>\n",
       "    </tr>\n",
       "    <tr>\n",
       "      <th>3</th>\n",
       "      <td>11.42</td>\n",
       "      <td>20.38</td>\n",
       "      <td>77.58</td>\n",
       "      <td>386.1</td>\n",
       "      <td>0.14250</td>\n",
       "      <td>0.28390</td>\n",
       "      <td>0.2414</td>\n",
       "      <td>0.10520</td>\n",
       "      <td>0.2597</td>\n",
       "      <td>0.09744</td>\n",
       "      <td>...</td>\n",
       "      <td>14.91</td>\n",
       "      <td>26.50</td>\n",
       "      <td>98.87</td>\n",
       "      <td>567.7</td>\n",
       "      <td>0.2098</td>\n",
       "      <td>0.8663</td>\n",
       "      <td>0.6869</td>\n",
       "      <td>0.2575</td>\n",
       "      <td>0.6638</td>\n",
       "      <td>0.17300</td>\n",
       "    </tr>\n",
       "    <tr>\n",
       "      <th>4</th>\n",
       "      <td>20.29</td>\n",
       "      <td>14.34</td>\n",
       "      <td>135.10</td>\n",
       "      <td>1297.0</td>\n",
       "      <td>0.10030</td>\n",
       "      <td>0.13280</td>\n",
       "      <td>0.1980</td>\n",
       "      <td>0.10430</td>\n",
       "      <td>0.1809</td>\n",
       "      <td>0.05883</td>\n",
       "      <td>...</td>\n",
       "      <td>22.54</td>\n",
       "      <td>16.67</td>\n",
       "      <td>152.20</td>\n",
       "      <td>1575.0</td>\n",
       "      <td>0.1374</td>\n",
       "      <td>0.2050</td>\n",
       "      <td>0.4000</td>\n",
       "      <td>0.1625</td>\n",
       "      <td>0.2364</td>\n",
       "      <td>0.07678</td>\n",
       "    </tr>\n",
       "  </tbody>\n",
       "</table>\n",
       "<p>5 rows × 30 columns</p>\n",
       "</div>"
      ],
      "text/plain": [
       "   mean radius  mean texture  mean perimeter  mean area  mean smoothness  \\\n",
       "0        17.99         10.38          122.80     1001.0          0.11840   \n",
       "1        20.57         17.77          132.90     1326.0          0.08474   \n",
       "2        19.69         21.25          130.00     1203.0          0.10960   \n",
       "3        11.42         20.38           77.58      386.1          0.14250   \n",
       "4        20.29         14.34          135.10     1297.0          0.10030   \n",
       "\n",
       "   mean compactness  mean concavity  mean concave points  mean symmetry  \\\n",
       "0           0.27760          0.3001              0.14710         0.2419   \n",
       "1           0.07864          0.0869              0.07017         0.1812   \n",
       "2           0.15990          0.1974              0.12790         0.2069   \n",
       "3           0.28390          0.2414              0.10520         0.2597   \n",
       "4           0.13280          0.1980              0.10430         0.1809   \n",
       "\n",
       "   mean fractal dimension  ...  worst radius  worst texture  worst perimeter  \\\n",
       "0                 0.07871  ...         25.38          17.33           184.60   \n",
       "1                 0.05667  ...         24.99          23.41           158.80   \n",
       "2                 0.05999  ...         23.57          25.53           152.50   \n",
       "3                 0.09744  ...         14.91          26.50            98.87   \n",
       "4                 0.05883  ...         22.54          16.67           152.20   \n",
       "\n",
       "   worst area  worst smoothness  worst compactness  worst concavity  \\\n",
       "0      2019.0            0.1622             0.6656           0.7119   \n",
       "1      1956.0            0.1238             0.1866           0.2416   \n",
       "2      1709.0            0.1444             0.4245           0.4504   \n",
       "3       567.7            0.2098             0.8663           0.6869   \n",
       "4      1575.0            0.1374             0.2050           0.4000   \n",
       "\n",
       "   worst concave points  worst symmetry  worst fractal dimension  \n",
       "0                0.2654          0.4601                  0.11890  \n",
       "1                0.1860          0.2750                  0.08902  \n",
       "2                0.2430          0.3613                  0.08758  \n",
       "3                0.2575          0.6638                  0.17300  \n",
       "4                0.1625          0.2364                  0.07678  \n",
       "\n",
       "[5 rows x 30 columns]"
      ]
     },
     "execution_count": 3,
     "metadata": {},
     "output_type": "execute_result"
    }
   ],
   "source": [
    "data_breast_cancer = load_breast_cancer(as_frame=True)\n",
    "X_full = data_breast_cancer[\"data\"]\n",
    "y_full = data_breast_cancer[\"target\"]\n",
    "print(\"X_full shape: \", X_full.shape)\n",
    "X_full.head()"
   ]
  },
  {
   "cell_type": "code",
   "execution_count": 4,
   "id": "c7c08a51",
   "metadata": {},
   "outputs": [
    {
     "name": "stdout",
     "output_type": "stream",
     "text": [
      "y_full shape:  (569,)\n"
     ]
    },
    {
     "data": {
      "text/plain": [
       "0    0\n",
       "1    0\n",
       "2    0\n",
       "3    0\n",
       "4    0\n",
       "Name: target, dtype: int64"
      ]
     },
     "execution_count": 4,
     "metadata": {},
     "output_type": "execute_result"
    }
   ],
   "source": [
    "print(\"y_full shape: \", y_full.shape)\n",
    "y_full.head()"
   ]
  },
  {
   "cell_type": "code",
   "execution_count": 5,
   "id": "a873c66c",
   "metadata": {},
   "outputs": [
    {
     "name": "stdout",
     "output_type": "stream",
     "text": [
      "X_train shape: (455, 30), X_test shape: (114, 30)\n",
      "y_train shape: (455,), y_test shape: (114,)\n"
     ]
    }
   ],
   "source": [
    "X_train, X_test, y_train, y_test = train_test_split(X_full, y_full, test_size=0.2, random_state=42)\n",
    "\n",
    "print(\"X_train shape: {}, X_test shape: {}\".format(X_train.shape, X_test.shape))\n",
    "print(\"y_train shape: {}, y_test shape: {}\".format(y_train.shape, y_test.shape))"
   ]
  },
  {
   "cell_type": "markdown",
   "id": "bc216e3f",
   "metadata": {},
   "source": [
    "## Step 1: Split Training set into X0 and X1"
   ]
  },
  {
   "cell_type": "code",
   "execution_count": 6,
   "id": "48cb73b4",
   "metadata": {},
   "outputs": [
    {
     "data": {
      "text/plain": [
       "((227, 30), (227,))"
      ]
     },
     "execution_count": 6,
     "metadata": {},
     "output_type": "execute_result"
    }
   ],
   "source": [
    "def random_train_split(X,y):\n",
    "    N = X.shape[0]\n",
    "    indices = np.random.permutation(N)\n",
    "    X0, y0 = X[indices[:N // 2]], y[indices[:N // 2]]\n",
    "    return X0, y0\n",
    "\n",
    "X0, y0 = random_train_split(X_train.values, y_train.values)\n",
    "X0.shape, y0.shape"
   ]
  },
  {
   "cell_type": "markdown",
   "id": "c009c15a",
   "metadata": {},
   "source": [
    "## Step 3: Bootstrap and Train ($T_{0}$) Tree Set"
   ]
  },
  {
   "cell_type": "code",
   "execution_count": 7,
   "id": "ff9838a0",
   "metadata": {},
   "outputs": [
    {
     "name": "stdout",
     "output_type": "stream",
     "text": [
      "Number of trees in T0: 100\n"
     ]
    }
   ],
   "source": [
    "def train_decision_tree(X, y, depth, min_samples_leaf):\n",
    "    clf = DecisionTreeClassifier(max_depth=depth, min_samples_leaf=min_samples_leaf)\n",
    "    clf.fit(X, y)\n",
    "    return clf\n",
    "\n",
    "def bootstrap_trees(X, y, depths, min_samples, B):\n",
    "    '''\n",
    "    Create B bootstrap trees by sampling with replacement from X_0\n",
    "    '''\n",
    "    trees = []\n",
    "    for _ in range(B):\n",
    "        X_sample, y_sample = resample(X, y, replace= True)\n",
    "        depth = np.random.choice(depths)\n",
    "        min_leaf = np.random.choice(min_samples)\n",
    "        tree = train_decision_tree(X_sample, y_sample, depth, min_leaf)\n",
    "        trees.append(tree)\n",
    "    return trees\n",
    "\n",
    "T0 = bootstrap_trees(X0, y0, DEPTHS, MIN_SAMPLES, 100)\n",
    "print(\"Number of trees in T0:\", len(T0))"
   ]
  },
  {
   "cell_type": "markdown",
   "id": "ae79422a",
   "metadata": {},
   "source": [
    "## Step 4: Train Second Tree Collection: $\\mathcal{T}$"
   ]
  },
  {
   "cell_type": "markdown",
   "id": "2e726fb0",
   "metadata": {},
   "source": [
    "Train the second tree collection $\\mathcal{T}$ using the same method but on the entire training set."
   ]
  },
  {
   "cell_type": "code",
   "execution_count": 8,
   "id": "f4981fec",
   "metadata": {},
   "outputs": [
    {
     "name": "stdout",
     "output_type": "stream",
     "text": [
      "Number of trees in T: 100\n"
     ]
    }
   ],
   "source": [
    "T = bootstrap_trees(X_train.values, y_train.values, DEPTHS, MIN_SAMPLES, 100)\n",
    "print(\"Number of trees in T:\", len(T))"
   ]
  },
  {
   "cell_type": "markdown",
   "id": "441643f9",
   "metadata": {},
   "source": [
    "## Step 5.1: Compute Mean distance for each $T \\in T$\n",
    "- For each tree in $\\mathcal{T}$, compute `dt-distance` for all $T \\in T_{0}$ and average over all B\n",
    "- Compute AUC score from Test Data to get out-of-sample predictive power\n",
    "- Return $B$ average distances \n",
    "- Intuition for larger set: Say we get new data in the future-> how much do these new trees (entire set)$\\mathcal{T}$ deviate from the previosuly smaller set of trees $T_{0}$?\n",
    "- only structural differences (via path definitions) matter for problem params, so the path_converstion does not care about the dataset, but the bounds on features, quantification of categories, and assigned class labels as a sequence of splits "
   ]
  },
  {
   "cell_type": "code",
   "execution_count": null,
   "id": "8e338b5e",
   "metadata": {},
   "outputs": [
    {
     "ename": "ValueError",
     "evalue": "The truth value of a DataFrame is ambiguous. Use a.empty, a.bool(), a.item(), a.any() or a.all().",
     "output_type": "error",
     "traceback": [
      "\u001b[31m---------------------------------------------------------------------------\u001b[39m",
      "\u001b[31mValueError\u001b[39m                                Traceback (most recent call last)",
      "\u001b[32m/var/folders/6y/vqylldfs76d_lq4y5kybncr40000gn/T/ipykernel_81196/291729321.py\u001b[39m in \u001b[36m?\u001b[39m\u001b[34m()\u001b[39m\n\u001b[32m      8\u001b[39m         d_ref /= len(trees_target)\n\u001b[32m      9\u001b[39m         distances.append(d_ref)\n\u001b[32m     10\u001b[39m     \u001b[38;5;28;01mreturn\u001b[39;00m distances\n\u001b[32m     11\u001b[39m \n\u001b[32m---> \u001b[39m\u001b[32m12\u001b[39m compute_centroid_trees(T0, T, X_train, y_train)\n",
      "\u001b[32m/var/folders/6y/vqylldfs76d_lq4y5kybncr40000gn/T/ipykernel_81196/291729321.py\u001b[39m in \u001b[36m?\u001b[39m\u001b[34m(trees_ref, trees_target, X, y)\u001b[39m\n\u001b[32m      2\u001b[39m     distances = []\n\u001b[32m      3\u001b[39m     \u001b[38;5;28;01mfor\u001b[39;00m i, tree_ref \u001b[38;5;28;01min\u001b[39;00m enumerate(trees_ref):\n\u001b[32m      4\u001b[39m         d_ref = \u001b[32m0.0\u001b[39m\n\u001b[32m      5\u001b[39m         \u001b[38;5;28;01mfor\u001b[39;00m tree_target \u001b[38;5;28;01min\u001b[39;00m trees_target:\n\u001b[32m----> \u001b[39m\u001b[32m6\u001b[39m             distance_calculator = DistanceCalculator(tree_ref, tree_target, X, y)\n\u001b[32m      7\u001b[39m             d_ref+= distance_calculator.compute_tree_distance()\n\u001b[32m      8\u001b[39m         d_ref /= len(trees_target)\n\u001b[32m      9\u001b[39m         distances.append(d_ref)\n",
      "\u001b[32m~/stuff/gitclones/Suicide_Project/src/dt-distance/dt_distance/distance_calculator.py\u001b[39m in \u001b[36m?\u001b[39m\u001b[34m(self, tree1, tree2, problem_params, X, y, dataset_name, max_depth, normalize_distance, outcome_weight_in_path, round_digits)\u001b[39m\n\u001b[32m     31\u001b[39m         :param outcome_weight_in_path: Weight of the outcome \u001b[38;5;28;01min\u001b[39;00m the path distance calculation.\n\u001b[32m     32\u001b[39m         \"\"\"\n\u001b[32m     33\u001b[39m \n\u001b[32m     34\u001b[39m         \u001b[38;5;66;03m# Use provided problem_params or process data to obtain them\u001b[39;00m\n\u001b[32m---> \u001b[39m\u001b[32m35\u001b[39m         \u001b[38;5;28;01mif\u001b[39;00m problem_params:\n\u001b[32m     36\u001b[39m             self.problem_params = problem_params\n\u001b[32m     37\u001b[39m         \u001b[38;5;28;01melse\u001b[39;00m:\n\u001b[32m     38\u001b[39m             data_processor = DataProcessor(data=X, target=y, dataset_name=dataset_name)\n",
      "\u001b[32m~/stuff/gitclones/Suicide_Project/.venv/lib/python3.11/site-packages/pandas/core/generic.py\u001b[39m in \u001b[36m?\u001b[39m\u001b[34m(self)\u001b[39m\n\u001b[32m   1575\u001b[39m     @final\n\u001b[32m   1576\u001b[39m     \u001b[38;5;28;01mdef\u001b[39;00m __nonzero__(self) -> NoReturn:\n\u001b[32m-> \u001b[39m\u001b[32m1577\u001b[39m         raise ValueError(\n\u001b[32m   1578\u001b[39m             \u001b[33mf\"The truth value of a {type(self).__name__} is ambiguous. \"\u001b[39m\n\u001b[32m   1579\u001b[39m             \u001b[33m\"Use a.empty, a.bool(), a.item(), a.any() or a.all().\"\u001b[39m\n\u001b[32m   1580\u001b[39m         )\n",
      "\u001b[31mValueError\u001b[39m: The truth value of a DataFrame is ambiguous. Use a.empty, a.bool(), a.item(), a.any() or a.all()."
     ]
    }
   ],
   "source": [
    "def compute_centroid_trees(trees_ref, trees_target, X, y):\n",
    "    distances = []\n",
    "    for i, tree_ref in enumerate(trees_ref):\n",
    "        d_ref = 0.0\n",
    "        for tree_target in trees_target:\n",
    "            distance_calculator = DistanceCalculator(tree_ref, tree_target, X, y)\n",
    "            d_ref+= distance_calculator.compute_tree_distance()\n",
    "        d_ref /= len(trees_target)\n",
    "        distances.append(d_ref)\n",
    "    return distances\n",
    "\n",
    "compute_centroid_trees(T0, T, X_train.values, y_train.values)"
   ]
  },
  {
   "cell_type": "markdown",
   "id": "322d0d81",
   "metadata": {},
   "source": [
    "## Step 5.2: Compute out-of-sample Predicitive Performance \n",
    "- ROC_AUC score on test-set (our validation set)"
   ]
  },
  {
   "cell_type": "code",
   "execution_count": null,
   "id": "f5fa9439",
   "metadata": {},
   "outputs": [],
   "source": [
    "def evaluate_predictive_power(trees, X_holdout, y_holdout):\n",
    "    auc_scores = []\n",
    "    for tree in trees:\n",
    "        y_proba = tree.predict_proba(X_holdout)[:, 1]\n",
    "        auc = roc_auc_score(y_holdout, y_proba)\n",
    "        auc_scores.append(auc)\n",
    "    return auc_scores"
   ]
  },
  {
   "cell_type": "markdown",
   "id": "4911dd4e",
   "metadata": {},
   "source": [
    "## Step 6: Find the Pareto Optimal Set $\\mathcal{T}^{*}$ from $\\mathcal{T}$\n",
    "- multi-objective function to find pareto optimal tree set from $\\mathcal{T}$ based on average distance, $d_{b}$ , $\\forall b \\in \\mathcal{T}$ and the out-of-sample AUC_ROC score $a_{b}$, $\\forall b \\in \\mathcal{T}$\n",
    "- **Pareto Optimal Definition:** $(d_{b'} \\leq d_b \\text{ and } \\alpha_{b'} > \\alpha_b) \\text{ or } (d_{b'} < d_b \\text{ and } \\alpha_{b'} \\geq \\alpha_b)$"
   ]
  },
  {
   "cell_type": "code",
   "execution_count": null,
   "id": "790e6767",
   "metadata": {},
   "outputs": [],
   "source": [
    "def pareto_optimal_trees(distances, auc_scores):\n",
    "    pareto_trees = []\n",
    "    for i, (d_i, a_i) in enumerate(zip(distances, auc_scores)):\n",
    "        dominated = False\n",
    "        for j, (d_j, a_j) in enumerate(zip(distances, auc_scores)):\n",
    "            if i != j and ((d_j <= d_i and a_j > a_i) or (d_j < d_i and a_j >= a_i)):\n",
    "                dominated = True\n",
    "                break\n",
    "        if not dominated:\n",
    "            pareto_trees.append(i)\n",
    "    return pareto_trees"
   ]
  },
  {
   "cell_type": "markdown",
   "id": "27a7fbeb",
   "metadata": {},
   "source": [
    "## Step 7: Find the Optimal Tree from the Pareto Optimal Set, $\\mathcal{T^{*}}$\n",
    "-  $\\mathbb{T}^\\star = \\underset{\\mathbb{T}_b \\in \\mathcal{T}^\\star}{\\text{argmax}} \\ f(d_b, \\alpha_b)$\n",
    "- need to consider here what we value: stability or predicitve power.\n",
    "-  current function is most stable model among all “good enough” performers.\n",
    "- Can modify to find optimal trade-off for accuracy-stability\n",
    "- Indicator function where:\n",
    "    - 1 if $\\alpha_{b}$ is within ε of the best score\n",
    "    - 0 otherwise"
   ]
  },
  {
   "cell_type": "code",
   "execution_count": null,
   "id": "c70924c5",
   "metadata": {},
   "outputs": [],
   "source": [
    "def select_final_tree(distances, auc_scores, pareto_indices, epsilon=0.01):\n",
    "    best_auc = max(auc_scores)\n",
    "    candidates = [i for i in pareto_indices if auc_scores[i] >= (1 - epsilon) * best_auc]\n",
    "    if not candidates:\n",
    "        candidates = pareto_indices\n",
    "    best_idx = max(candidates, key=lambda i: auc_scores[i] - distances[i])\n",
    "    return best_idx"
   ]
  },
  {
   "cell_type": "code",
   "execution_count": null,
   "id": "2b73cce0",
   "metadata": {},
   "outputs": [],
   "source": [
    "\n",
    "# Main method implementing the training of stable trees\n",
    "def train_stable_tree(X, y, X_holdout, y_holdout, B=20):\n",
    "    # Parameters\n",
    "    depths = list(range(3, 13))\n",
    "    min_samples = [3, 5, 10, 30, 50]\n",
    "\n",
    "\n",
    "    # Step 2: Train initial collection of trees\n",
    "    trees_batch_0 = bootstrap_trees(X0, y0, depths, min_samples, B)\n",
    "\n",
    "    # Step 3: Train second collection of trees on entire data\n",
    "    trees_full_batch = bootstrap_trees(X, y, depths, min_samples, B)\n",
    "\n",
    "    # Step 4: Compute stability and predictive performance\n",
    "    distances = compute_centroid_trees(trees_batch_0, trees_full_batch)\n",
    "    auc_scores = evaluate_predictive_power(trees_full_batch, X_holdout, y_holdout)\n",
    "\n",
    "    # Step 5: Pareto frontier\n",
    "    pareto_indices = pareto_optimal_trees(distances, auc_scores)\n",
    "\n",
    "    # Step 6: Select optimal stable tree\n",
    "    best_tree_idx = select_final_tree(distances, auc_scores, pareto_indices)\n",
    "\n",
    "    #step 7: Choose the best stable tree\n",
    "    stable_tree = trees_full_batch[best_tree_idx]\n",
    "\n",
    "    return stable_tree, distances[best_tree_idx], auc_scores[best_tree_idx]"
   ]
  }
 ],
 "metadata": {
  "kernelspec": {
   "display_name": ".venv",
   "language": "python",
   "name": "python3"
  },
  "language_info": {
   "codemirror_mode": {
    "name": "ipython",
    "version": 3
   },
   "file_extension": ".py",
   "mimetype": "text/x-python",
   "name": "python",
   "nbconvert_exporter": "python",
   "pygments_lexer": "ipython3",
   "version": "3.11.11"
  }
 },
 "nbformat": 4,
 "nbformat_minor": 5
}
