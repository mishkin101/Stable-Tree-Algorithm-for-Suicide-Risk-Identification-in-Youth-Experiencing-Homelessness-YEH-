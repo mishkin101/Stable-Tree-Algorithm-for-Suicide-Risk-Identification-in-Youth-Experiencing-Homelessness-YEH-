{
 "cells": [
  {
   "cell_type": "code",
   "execution_count": 27,
   "id": "f2563649",
   "metadata": {},
   "outputs": [],
   "source": [
    "import sys\n",
    "from pathlib import Path\n",
    "\n",
    "src_path = Path(\"../src/dt-distance\").resolve()\n",
    "\n",
    "if str(src_path) not in sys.path:\n",
    "    sys.path.insert(0, str(src_path))\n",
    "import numpy as np\n",
    "from sklearn.tree import DecisionTreeClassifier\n",
    "from sklearn.metrics import roc_auc_score# Analy## Visu# d\n",
    "from sklearn.utils import resample\n",
    "from dt_distance.data_processor import DataProcessor  # correct!\n",
    "from dt_distance.tree_parser import TreeParser\n",
    "from dt_distance.distance_calculator import DistanceCalculator\n",
    "from dt_distance.problem_params import ProblemParams\n",
    "from sklearn.ensemble import RandomForestClassifier\n",
    "from sklearn.tree import DecisionTreeClassifier\n",
    "from sklearn.model_selection import cross_val_predict, StratifiedKFold\n",
    "from sklearn.metrics import roc_auc_score\n"
   ]
  },
  {
   "cell_type": "code",
   "execution_count": null,
   "id": "eaff1381",
   "metadata": {},
   "outputs": [],
   "source": [
    "#params from paper\n",
    "depths = list(range(3, 13))\n",
    "min_samples = [3, 5, 10, 30, 50]"
   ]
  },
  {
   "cell_type": "markdown",
   "id": "39a92e8d",
   "metadata": {},
   "source": [
    "## Step 1: Split Train and Test set"
   ]
  },
  {
   "cell_type": "code",
   "execution_count": null,
   "id": "6fcbf26f",
   "metadata": {},
   "outputs": [],
   "source": [
    "# Step 1: Split data into two batches\n",
    "'''\n",
    "randonly split training data\n",
    "'''\n",
    "def random_train_split(X,y):\n",
    "    N = X.shape[0]\n",
    "    indices = np.random.permutation(N)\n",
    "    X0, y0 = X[indices[:N // 2]], y[indices[:N // 2]]\n",
    "    return X0, y0"
   ]
  },
  {
   "cell_type": "markdown",
   "id": "2ceef0ec",
   "metadata": {},
   "source": [
    "## Step 2: Training the decision trees"
   ]
  },
  {
   "cell_type": "code",
   "execution_count": 26,
   "id": "26b4b377",
   "metadata": {},
   "outputs": [],
   "source": [
    "'''\n",
    "Helper function to generate trained tree with sklearn DecisionTreeClassifier\n",
    "'''\n",
    "def train_decision_tree(X, y, depth, min_samples_leaf):\n",
    "    clf = DecisionTreeClassifier(max_depth=depth, min_samples_leaf=min_samples_leaf)\n",
    "    clf.fit(X, y)\n",
    "    return clf"
   ]
  },
  {
   "cell_type": "markdown",
   "id": "e4e7c2c5",
   "metadata": {},
   "source": [
    "## Step 3: Bootstrap and Train $T_{0}$ Tree Set\n",
    "- subset $N_0$ of $N$"
   ]
  },
  {
   "cell_type": "code",
   "execution_count": null,
   "id": "57ff82e8",
   "metadata": {},
   "outputs": [],
   "source": [
    "'''\n",
    "Takes in X_0\n",
    "Take in full training data\n",
    "Sample with replacement\n",
    "'''\n",
    "def bootstrap_trees(X, y, depths, min_samples, B):\n",
    "    trees = []\n",
    "    for _ in range(B):\n",
    "        X_sample, y_sample = resample(X, y, replace= True)\n",
    "        depth = np.random.choice(depths)\n",
    "        min_leaf = np.random.choice(min_samples)\n",
    "        tree = train_decision_tree(X_sample, y_sample, depth, min_leaf)\n",
    "        trees.append(tree)\n",
    "    return trees"
   ]
  },
  {
   "cell_type": "markdown",
   "id": "86b2436d",
   "metadata": {},
   "source": [
    "## Step 4: Train Second Tree Collection: $\\mathcal{T}$ (Call Bootstrap trees on X)\n",
    "- full training data $N$\n"
   ]
  },
  {
   "cell_type": "markdown",
   "id": "375691cb",
   "metadata": {},
   "source": [
    "## Step 5.1: Compute Mean distance for each $T \\in T$\n",
    "- For each tree in $\\mathcal{T}$, compute `dt-distance` for all $T \\in T_{0}$ and average over all B\n",
    "- Compute AUC score from Test Data to get out-of-sample predictive power\n",
    "- Return $B$ average distances \n",
    "- Intuition for larger set: Say we get new data in the future-> how much do these new trees (entire set)$\\mathcal{T}$ deviate from the previosuly smaller set of trees $T_{0}$?\n",
    "- only structural differences (via path definitions) matter for problem params, so the path_converstion does not care about the dataset, but the bounds on features, quantification of categories, and assigned class labels as a sequence of splits "
   ]
  },
  {
   "cell_type": "code",
   "execution_count": null,
   "id": "abfd8464",
   "metadata": {},
   "outputs": [],
   "source": [
    "\n",
    "def compute_centroid_trees(trees_ref, trees_target, X,y):\n",
    "    distances = []\n",
    "    #TT\n",
    "    for target_tree in trees_target:\n",
    "        #t0\n",
    "        tree_dist_sum = 0\n",
    "        for ref_tree in trees_ref:\n",
    "            distance_calculator = DistanceCalculator(trees_target, ref_tree, X=X, y=y)\n",
    "            tree_dist = distance_calculator.compute_tree_distance()\n",
    "            tree_dist_sum += tree_dist\n",
    "        avg_distance = tree_dist_sum  / len(trees_ref)\n",
    "        distances.append(avg_distance)\n",
    "    return distances"
   ]
  },
  {
   "cell_type": "markdown",
   "id": "91f4241b",
   "metadata": {},
   "source": [
    "## Step 5.2: Compute out-of-sample Predicitive Performance \n",
    "- ROC_AUC score on test-set (our validation set)"
   ]
  },
  {
   "cell_type": "code",
   "execution_count": null,
   "id": "6a6bf6ac",
   "metadata": {},
   "outputs": [],
   "source": [
    "def evaluate_predictive_power(trees, X_holdout, y_holdout):\n",
    "    auc_scores = []\n",
    "    for tree in trees:\n",
    "        y_proba = tree.predict_proba(X_holdout)[:, 1]\n",
    "        auc = roc_auc_score(y_holdout, y_proba)\n",
    "        auc_scores.append(auc)\n",
    "    return auc_scores"
   ]
  },
  {
   "cell_type": "markdown",
   "id": "115082e9",
   "metadata": {},
   "source": [
    "## Step 6: Find the Pareto Optimal Set $\\mathcal{T}^{*}$ from $\\mathcal{T}$\n",
    "- multi-objective function to find pareto optimal tree set from $\\mathcal{T}$ based on average distance, $d_{b}$ , $\\forall b \\in \\mathcal{T}$ and the out-of-sample AUC_ROC score $a_{b}$, $\\forall b \\in \\mathcal{T}$\n",
    "- **Pareto Optimal Definition:** $(d_{b'} \\leq d_b \\text{ and } \\alpha_{b'} > \\alpha_b) \\text{ or } (d_{b'} < d_b \\text{ and } \\alpha_{b'} \\geq \\alpha_b)$"
   ]
  },
  {
   "cell_type": "code",
   "execution_count": null,
   "id": "282a1494",
   "metadata": {},
   "outputs": [],
   "source": [
    "\n",
    "def pareto_optimal_trees(distances, auc_scores):\n",
    "    pareto_trees = []\n",
    "    for i, (d_i, a_i) in enumerate(zip(distances, auc_scores)):\n",
    "        dominated = False\n",
    "        for j, (d_j, a_j) in enumerate(zip(distances, auc_scores)):\n",
    "            if i != j and ((d_j <= d_i and a_j > a_i) or (d_j < d_i and a_j >= a_i)):\n",
    "                dominated = True\n",
    "                break\n",
    "        if not dominated:\n",
    "            pareto_trees.append(i)\n",
    "    return pareto_trees"
   ]
  },
  {
   "cell_type": "markdown",
   "id": "956476e4",
   "metadata": {},
   "source": [
    "## Step 7: Find the Optimal Tree from the Pareto Optimal Set, $\\mathcal{T^{*}}$\n",
    "-  $\\mathbb{T}^\\star = \\underset{\\mathbb{T}_b \\in \\mathcal{T}^\\star}{\\text{argmax}} \\ f(d_b, \\alpha_b)$\n",
    "- need to consider here what we value: stability or predicitve power.\n",
    "-  current function is most stable model among all “good enough” performers.\n",
    "- Can modify to find optimal trade-off for accuracy-stability\n",
    "- Indicator function where:\n",
    "    - 1 if $\\alpha_{b}$ is within ε of the best score\n",
    "    - 0 otherwise\n",
    "\n",
    "### Optional Later step: Impose interpretability constraints\n",
    "- increases dimensionality of the multi-objective function"
   ]
  },
  {
   "cell_type": "code",
   "execution_count": null,
   "id": "fe2e84e0",
   "metadata": {},
   "outputs": [],
   "source": [
    "def select_final_tree(distances, auc_scores, pareto_indices, epsilon=0.01):\n",
    "    best_auc = max(auc_scores)\n",
    "    candidates = [i for i in pareto_indices if auc_scores[i] >= (1 - epsilon) * best_auc]\n",
    "    if not candidates:\n",
    "        candidates = pareto_indices\n",
    "    best_idx = max(candidates, key=lambda i: auc_scores[i] - distances[i])\n",
    "    return best_idx"
   ]
  },
  {
   "cell_type": "markdown",
   "id": "d6724bab",
   "metadata": {},
   "source": [
    "### Step 7 Variation Benchmark: AUC maximizing Pareto Critera"
   ]
  },
  {
   "cell_type": "code",
   "execution_count": null,
   "id": "565d7849",
   "metadata": {},
   "outputs": [],
   "source": [
    "def select_best_auc_tree(trees, auc_scores):\n",
    "    best_idx = np.argmax(auc_scores)\n",
    "    return best_idx, trees[best_idx], auc_scores[best_idx]"
   ]
  },
  {
   "cell_type": "markdown",
   "id": "2c3c5f8a",
   "metadata": {},
   "source": [
    "### Step 7 Variation Benchmark: Distance minimizing Criteria "
   ]
  },
  {
   "cell_type": "code",
   "execution_count": null,
   "id": "535a22e4",
   "metadata": {},
   "outputs": [],
   "source": [
    "def select_best_distance_tree(trees, distances):\n",
    "    best_idx = np.argmin(distances)\n",
    "    return best_idx, trees[best_idx], distances[best_idx]"
   ]
  },
  {
   "cell_type": "markdown",
   "id": "93744d16",
   "metadata": {},
   "source": [
    "# Main Stable Tree Trainer Pipeline"
   ]
  },
  {
   "cell_type": "code",
   "execution_count": null,
   "id": "8006249f",
   "metadata": {},
   "outputs": [],
   "source": [
    "\n",
    "# Main method implementing the training of stable trees\n",
    "'''Pareto Objective will return the full_tree_set, pareto_tree_indices, distances, auc_scores'''\n",
    "def generate_pareto_set(X, y, X_holdout, y_holdout, B=20):\n",
    "    # Parameters\n",
    "    depths = list(range(3, 13))\n",
    "    min_samples = [3, 5, 10, 30, 50]\n",
    "\n",
    "    # Step 1: split data\n",
    "    X0, y0 = random_train_split(X,y)\n",
    "\n",
    "    # Step 2: Train initial collection of trees\n",
    "    trees_batch_0 = bootstrap_trees(X0, y0, depths, min_samples, B)\n",
    "\n",
    "    # Step 3: Train second collection of trees on entire data\n",
    "    trees_full_batch = bootstrap_trees(X, y, depths, min_samples, B)\n",
    "\n",
    "    # Step 4: Compute stability and predictive performance\n",
    "    distances = compute_centroid_trees(trees_batch_0, trees_full_batch)\n",
    "    auc_scores = evaluate_predictive_power(trees_full_batch, X_holdout, y_holdout)\n",
    "\n",
    "    '''later save as model class attrbute to visualize'''\n",
    "    # Step 5: Pareto frontier\n",
    "    pareto_indices = pareto_optimal_trees(distances, auc_scores)\n",
    "\n",
    "    return (trees_full_batch, pareto_indices, distances, scores)\n",
    "\n",
    "'''Stabler_tree_trainer will return the best tree based on the single objective pareto function for the pareto optimal set'''\n",
    "def stable_tree_trainer(trees_tuple, pareto_indices,objective =None):\n",
    "    # Step 6: Select optimal stable tree\n",
    "    best_tree_idx = select_final_tree(distances, auc_scores, pareto_indices)\n",
    "    if objective =\"balanced\":\n",
    "        \n",
    "    if objective = \"distance\":\n",
    "    #step 7: Choose the best stable tree\n",
    "    \n",
    "    stable_tree = trees_full_batch[best_tree_idx]\n",
    "    return stable_tree, distances[best_tree_idx], auc_scores[best_tree_idx]"
   ]
  },
  {
   "cell_type": "markdown",
   "id": "ed702733",
   "metadata": {},
   "source": [
    "# Benchmarking Performance across Pareto-AUC, Pareto-Dist, CVCART, and RF"
   ]
  },
  {
   "cell_type": "code",
   "execution_count": null,
   "id": "40802769",
   "metadata": {},
   "outputs": [],
   "source": [
    "\n",
    "def benchmark_models(trees_full_batch, distances, auc_scores, X_holdout, y_holdout):\n",
    "    \"\"\"\n",
    "    Benchmarks the following:\n",
    "    - CART Pareto AUC: Pareto-optimal tree with max AUC\n",
    "    - CART Pareto Distance: Pareto-optimal tree with min distance\n",
    "    - CART CV: Best tree from 5-fold CV\n",
    "    - RF: Random Forest AUC (as baseline)\n",
    "    \"\"\"\n",
    "    pareto_indices = pareto_optimal_trees(distances, auc_scores)\n",
    "\n",
    "    # Best AUC in Pareto\n",
    "    auc_max_idx = max(pareto_indices, key=lambda i: auc_scores[i])\n",
    "    auc_max_tree = trees_full_batch[auc_max_idx]\n",
    "    auc_max_auc = auc_scores[auc_max_idx]\n",
    "\n",
    "    # Best distance in Pareto\n",
    "    dist_min_idx = min(pareto_indices, key=lambda i: distances[i])\n",
    "    dist_min_tree = trees_full_batch[dist_min_idx]\n",
    "    dist_min_auc = auc_scores[dist_min_idx]\n",
    "\n",
    "    # CART CV benchmark (best DT from 5-fold CV)\n",
    "    dt_cv = DecisionTreeClassifier()\n",
    "    cv_probs = cross_val_predict(dt_cv, X_holdout, y_holdout, method='predict_proba',\n",
    "                                 cv=StratifiedKFold(n_splits=5), n_jobs=-1)\n",
    "    cv_auc = roc_auc_score(y_holdout, cv_probs[:, 1])\n",
    "\n",
    "    # Random Forest benchmark\n",
    "    rf = RandomForestClassifier(n_estimators=100, random_state=0)\n",
    "    rf.fit(X_holdout, y_holdout)\n",
    "    rf_auc = roc_auc_score(y_holdout, rf.predict_proba(X_holdout)[:, 1])\n",
    "\n",
    "    return {\n",
    "        \"CART Pareto AUC\": auc_max_auc,\n",
    "        \"CART Pareto Distance\": dist_min_auc,\n",
    "        \"CART CV\": cv_auc,\n",
    "        \"Random Forest\": rf_auc,\n",
    "        \"models\": {\n",
    "            \"pareto_auc_tree\": auc_max_tree,\n",
    "            \"pareto_dist_tree\": dist_min_tree,\n",
    "            \"random_forest\": rf\n",
    "        }\n",
    "    }\n",
    "\n"
   ]
  }
 ],
 "metadata": {
  "kernelspec": {
   "display_name": ".venv",
   "language": "python",
   "name": "python3"
  },
  "language_info": {
   "codemirror_mode": {
    "name": "ipython",
    "version": 3
   },
   "file_extension": ".py",
   "mimetype": "text/x-python",
   "name": "python",
   "nbconvert_exporter": "python",
   "pygments_lexer": "ipython3",
   "version": "3.11.11"
  }
 },
 "nbformat": 4,
 "nbformat_minor": 5
}
