{
 "cells": [
  {
   "cell_type": "markdown",
   "id": "cc0d60b0",
   "metadata": {},
   "source": [
    "# Comparison Metrics"
   ]
  }
 ],
 "metadata": {
  "kernelspec": {
   "display_name": ".venv",
   "language": "python",
   "name": "python3"
  },
  "language_info": {
   "name": "python",
   "version": "3.11.11"
  }
 },
 "nbformat": 4,
 "nbformat_minor": 5
}
