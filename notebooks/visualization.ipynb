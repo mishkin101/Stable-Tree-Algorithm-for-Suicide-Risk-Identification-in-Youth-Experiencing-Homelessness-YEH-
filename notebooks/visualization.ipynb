{
 "cells": [
  {
   "cell_type": "markdown",
   "id": "b5631264",
   "metadata": {},
   "source": [
    "# Visualization Notebook"
   ]
  },
  {
   "cell_type": "code",
   "execution_count": 5,
   "id": "562d503b",
   "metadata": {},
   "outputs": [],
   "source": [
    "import sys\n",
    "from pathlib import Path\n",
    "\n",
    "src_path = Path(\"../src/dt-distance\").resolve()\n",
    "if str(src_path) not in sys.path:\n",
    "    sys.path.insert(0, str(src_path))\n",
    "    \n",
    "import numpy as np\n",
    "import matplotlib.pyplot as plt\n",
    "from sklearn.metrics import roc_auc_score\n",
    "from dt_distance.distance_calculator import DistanceCalculator\n"
   ]
  },
  {
   "cell_type": "markdown",
   "id": "073e2b99",
   "metadata": {},
   "source": [
    "## Pareto Frontier Visualization\n",
    "- plotting pareto frontier from a collection of trees based on average distance, $d_{b}$ , $\\forall b \\in \\mathcal{T}$ and the out-of-sample AUC_ROC score $a_{b}$, $\\forall b \\in \\mathcal{T}$"
   ]
  },
  {
   "cell_type": "code",
   "execution_count": null,
   "id": "b5128dfc",
   "metadata": {},
   "outputs": [],
   "source": [
    "def plot_pareto_frontier(distances, auc_scores, pareto_indices):\n",
    "    distances = np.array(distances)\n",
    "    auc_scores = np.array(auc_scores)\n",
    "    pareto_indices = set(pareto_indices)\n",
    "    is_pareto = np.array([i in pareto_indices for i in range(len(distances))])\n",
    "    # Plotting\n",
    "    plt.figure(figsize=(8, 6))\n",
    "    plt.scatter(distances[~is_pareto], auc_scores[~is_pareto], c='blue', label='Dominated Trees', alpha=0.6)\n",
    "    plt.scatter(distances[is_pareto], auc_scores[is_pareto], c='red', edgecolors='black', s=80, label='Pareto Optimal Trees')\n",
    "    plt.xlabel(\"Stability (Lower is Better)\")\n",
    "    plt.ylabel(\"AUC (Higher is Better)\")\n",
    "    plt.title(title)\n",
    "    plt.legend()\n",
    "    plt.grid(True)\n",
    "    plt.tight_layout()\n",
    "    plt.show()\n"
   ]
  },
  {
   "cell_type": "markdown",
   "id": "b741d04e",
   "metadata": {},
   "source": [
    "## Mean "
   ]
  },
  {
   "cell_type": "code",
   "execution_count": null,
   "id": "6e4441d0",
   "metadata": {},
   "outputs": [],
   "source": [
    "\n",
    "def plot_tree_complexity_metrics(trees):\n",
    "\n",
    "    depths = [tree.get_depth() for tree in trees]\n",
    "    node_counts = [tree.tree_.node_count for tree in trees]\n",
    "\n",
    "    fig, axs = plt.subplots(1, 2, figsize=(12, 5))\n",
    "\n",
    "    # Tree Depth Plot\n",
    "    axs[0].scatter(range(len(trees)), depths, color='blue', alpha=0.7)\n",
    "    axs[0].set_title(\"Mean and Standard Deviation of Tree Depth\")\n",
    "    axs[0].set_xlabel(\"Dataset\")\n",
    "    axs[0].set_ylabel(\"Tree Depth\")\n",
    "    axs[0].grid(True)\n",
    "\n",
    "    # Node Count Plot\n",
    "    axs[1].scatter(range(len(trees)), node_counts, color='blue', alpha=0.7)\n",
    "    axs[1].set_title(title_right)\n",
    "    axs[1].set_xlabel(\"Tree Index\")\n",
    "    axs[1].set_ylabel(\"Number of Nodes\")\n",
    "    axs[1].grid(True)\n",
    "\n",
    "    plt.suptitle(\"Tree Complexity Analysis\")\n",
    "    plt.tight_layout()\n",
    "    plt.show()\n",
    "\n",
    "    return {\n",
    "        \"depths\": depths,\n",
    "        \"node_counts\": node_counts\n",
    "    }"
   ]
  }
 ],
 "metadata": {
  "kernelspec": {
   "display_name": ".venv",
   "language": "python",
   "name": "python3"
  },
  "language_info": {
   "codemirror_mode": {
    "name": "ipython",
    "version": 3
   },
   "file_extension": ".py",
   "mimetype": "text/x-python",
   "name": "python",
   "nbconvert_exporter": "python",
   "pygments_lexer": "ipython3",
   "version": "3.11.11"
  }
 },
 "nbformat": 4,
 "nbformat_minor": 5
}
